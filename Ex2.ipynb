{
 "cells": [
  {
   "cell_type": "code",
   "execution_count": 23,
   "metadata": {},
   "outputs": [],
   "source": [
    "### Part 1\n",
    "from sklearn_som.som import SOM\n",
    "import numpy as np\n",
    "import matplotlib.pyplot as plt"
   ]
  },
  {
   "cell_type": "code",
   "execution_count": 6,
   "metadata": {},
   "outputs": [],
   "source": [
    "# Data points\n",
    "X = np.load(\"points_1.npy\")"
   ]
  },
  {
   "cell_type": "code",
   "execution_count": 39,
   "metadata": {},
   "outputs": [],
   "source": [
    "# Scaled data : normalize and center coordinates\n",
    "def prep_point_mean_std(X: np.ndarray):\n",
    "    mean = X.mean(0)\n",
    "    std = X.std(0)\n",
    "    X_norm = (X - mean)/std\n",
    "    return X_norm\n",
    "\n",
    "\n",
    "X_norm = prep_point_mean_std(X)\n",
    "\n",
    "# from sklearn.preprocessing import StandardScaler #same with a function\n",
    "# scaler = StandardScaler()\n",
    "# X_norm_func = scaler.fit_transform(X)"
   ]
  },
  {
   "cell_type": "code",
   "execution_count": 34,
   "metadata": {},
   "outputs": [
    {
     "name": "stdout",
     "output_type": "stream",
     "text": [
      "349.08536542814807\n"
     ]
    }
   ],
   "source": [
    "# Raw data\n",
    "Points1_SOM = SOM(n=3, m=3, dim=40, lr=0.5, random_state=2023)\n",
    "Points1_SOM.fit(X, epochs=100)\n",
    "\n",
    "predictions_5 = Points1_SOM.predict(X)\n",
    "transform_5 = Points1_SOM.transform(X)\n",
    "\n",
    "value_min = transform_5.min(1)\n",
    "print(value_min.max())"
   ]
  },
  {
   "cell_type": "code",
   "execution_count": 22,
   "metadata": {},
   "outputs": [],
   "source": [
    "# Scaled data --> not good\n",
    "Points1_SOM_norm = SOM(n=3, m=3, dim=40, lr=1, random_state=2023)\n",
    "Points1_SOM_norm.fit(X_norm, epochs=100)\n",
    "\n",
    "predictions_norm = Points1_SOM.predict(X_norm)\n",
    "transform_norm = Points1_SOM.transform(X_norm)\n"
   ]
  },
  {
   "cell_type": "code",
   "execution_count": 32,
   "metadata": {},
   "outputs": [
    {
     "data": {
      "image/png": "[encoded data removed]",
      "text/plain": [
       "<Figure size 640x480 with 1 Axes>"
      ]
     },
     "metadata": {},
     "output_type": "display_data"
    }
   ],
   "source": [
    "# Colored transform\n",
    "def colored_transform(transform: np.ndarray):\n",
    "    fig, ax = plt.subplots()\n",
    "    min = transform.min()\n",
    "    max = transform.max()\n",
    "    # intersection_matrix = np.random.randint(0, 10, size=(max, max))\n",
    "\n",
    "    ax.matshow(transform-min, cmap=plt.cm.Blues)\n",
    "\n",
    "    for i in range(transform.shape[0]):\n",
    "        for j in range(transform.shape[1]):\n",
    "            ax.text(i, j, str(transform[i][j]), va='center', ha='center')\n",
    "        \n",
    "\n",
    "# colored_transform(transform_5)"
   ]
  },
  {
   "cell_type": "code",
   "execution_count": 35,
   "metadata": {},
   "outputs": [],
   "source": [
    "### Part 2\n",
    "from sklearn.decomposition import PCA"
   ]
  },
  {
   "cell_type": "code",
   "execution_count": 36,
   "metadata": {},
   "outputs": [],
   "source": [
    "X2 = np.load(\"points_2.npy\")"
   ]
  },
  {
   "cell_type": "code",
   "execution_count": 40,
   "metadata": {},
   "outputs": [],
   "source": [
    "# Pre-process\n",
    "X2_norm = prep_point_mean_std(X2)"
   ]
  },
  {
   "cell_type": "code",
   "execution_count": 44,
   "metadata": {},
   "outputs": [],
   "source": [
    "pca = PCA(n_components='mle')\n",
    "X2_new = pca.fit_transform(X2_norm)\n",
    "var = pca.explained_variance_\n",
    "\n",
    "pca4 = PCA(n_components=4)\n",
    "X2_new_4 = pca4.fit_transform(X2_norm)"
   ]
  }
 ],
 "metadata": {
  "kernelspec": {
   "display_name": "Python 3",
   "language": "python",
   "name": "python3"
  },
  "language_info": {
   "codemirror_mode": {
    "name": "ipython",
    "version": 3
   },
   "file_extension": ".py",
   "mimetype": "text/x-python",
   "name": "python",
   "nbconvert_exporter": "python",
   "pygments_lexer": "ipython3",
   "version": "3.10.12"
  },
  "orig_nbformat": 4
 },
 "nbformat": 4,
 "nbformat_minor": 2
}
